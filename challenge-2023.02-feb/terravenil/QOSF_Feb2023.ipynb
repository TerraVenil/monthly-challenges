{
 "cells": [
  {
   "cell_type": "markdown",
   "id": "69cd7532-333b-4895-b2ab-e70307c4c84e",
   "metadata": {},
   "source": [
    "February 2023 Challenge: Mentorship Program Screening Tasks"
   ]
  },
  {
   "cell_type": "code",
   "execution_count": 1,
   "id": "f7931590-327f-4c9f-8e49-54d8866cc09f",
   "metadata": {},
   "outputs": [
    {
     "name": "stdout",
     "output_type": "stream",
     "text": [
      "Name: qiskit\n",
      "Version: 0.41.1\n",
      "Summary: Software for developing quantum computing programs\n",
      "Home-page: https://qiskit.org/\n",
      "Author: Qiskit Development Team\n",
      "Author-email: hello@qiskit.org\n",
      "License: Apache 2.0\n",
      "Location: /opt/conda/lib/python3.9/site-packages\n",
      "Requires: qiskit-aer, qiskit-ibmq-provider, qiskit-terra\n",
      "Required-by: qiskit-qir\n"
     ]
    }
   ],
   "source": [
    "!pip show qiskit"
   ]
  },
  {
   "cell_type": "code",
   "execution_count": 1,
   "id": "0b370061-83af-4843-9ff0-1fd297b74710",
   "metadata": {},
   "outputs": [],
   "source": [
    "from qiskit import QuantumCircuit, QuantumRegister, Aer, transpile\n",
    "from qiskit.quantum_info.operators import Operator\n",
    "import numpy as np"
   ]
  },
  {
   "cell_type": "markdown",
   "id": "ea3a2747-554c-489b-88cd-29f6fdc1d97b",
   "metadata": {},
   "source": [
    "### Task 1 Find the largest number"
   ]
  },
  {
   "cell_type": "markdown",
   "id": "b1134f66-ebe4-4e7a-8618-df60c27b690b",
   "metadata": {},
   "source": [
    "Algorithm for finding the largest number between two integers, either positive or negative, is based on Grover's search algorithm with modifications in the Oracle part. The number of qubits required for the algorithm are equal to the maximum number of bits, either positive or negative, because of usage abs values. This allowed us to encode positive and negative numbers in the same states that simplified Oracle implementation to mark search solution state."
   ]
  },
  {
   "cell_type": "code",
   "execution_count": 13,
   "id": "aaf28746-6a18-4768-aa4d-9b7c2ec3d5c5",
   "metadata": {},
   "outputs": [],
   "source": [
    "\"\"\"\n",
    "    We are creating a custom oracle that has only one solution state, which is\n",
    "    determined by a maximum number. To accomplish this, we can utilize an Operator\n",
    "    class that allows us to abstract away from the specific implementation of the\n",
    "    gate used to mark the desired solution state.\n",
    "\"\"\"\n",
    "def create_oracle(nqubits: int, max_number: int):\n",
    "    qr = QuantumRegister(nqubits)\n",
    "    qc = QuantumCircuit(qr, name='Oracle(max)')\n",
    "\n",
    "    gate_matrix = np.eye(2 ** nqubits, dtype=int)\n",
    "    i=abs(max_number)\n",
    "    gate_matrix[i][i] = -1\n",
    "\n",
    "    max_operator = Operator(gate_matrix)\n",
    "    qc.unitary(max_operator, range(nqubits))\n",
    "    \n",
    "    return qc.to_instruction()\n",
    "\n",
    "def create_diffuser(nqubits: int):\n",
    "    qr = QuantumRegister(nqubits)\n",
    "    qc = QuantumCircuit(qr, name='Diffuser')\n",
    "\n",
    "    for qubit in range(nqubits):\n",
    "        qc.h(qubit)\n",
    "    for qubit in range(nqubits):\n",
    "        qc.x(qubit)\n",
    "    qc.barrier(range(nqubits))\n",
    "    qc.h(nqubits-1)\n",
    "    qc.mct(list(range(nqubits-1)), nqubits-1)\n",
    "    qc.h(nqubits-1)\n",
    "    qc.barrier(range(nqubits))\n",
    "    for qubit in range(nqubits):\n",
    "        qc.x(qubit)\n",
    "    for qubit in range(nqubits):\n",
    "        qc.h(qubit)\n",
    "\n",
    "    return qc.to_instruction()\n",
    "\n",
    "def find_the_largest_number(number_1: int, number_2: int):\n",
    "    max_number = max(number_1, number_2)\n",
    "    nqubits = max(max(abs(number_1), abs(number_2)).bit_length(), 2)\n",
    "    nstates = 2 ** nqubits\n",
    "\n",
    "    qc = QuantumCircuit(nqubits)\n",
    "\n",
    "    for i in range(nqubits):\n",
    "        qc.h(i)\n",
    "\n",
    "    niterations = int(np.floor(np.pi/4 * np.sqrt(nstates)))\n",
    "    for i in range(niterations):\n",
    "        qc.append(create_oracle(nqubits, max_number), range(nqubits))\n",
    "        qc.append(create_diffuser(nqubits), range(nqubits))\n",
    "\n",
    "    qc.measure_all()\n",
    "       \n",
    "    aer_sim = Aer.get_backend('aer_simulator')\n",
    "    compiled_circuit = transpile(qc, aer_sim)\n",
    "    result = aer_sim.run(compiled_circuit).result()\n",
    "    counts = result.get_counts()\n",
    "    max_candidate = int(max(counts, key=counts.get), 2)\n",
    "\n",
    "    if abs(max_number) == max_candidate:\n",
    "        return max_number\n",
    "    else:\n",
    "        return None"
   ]
  },
  {
   "cell_type": "code",
   "execution_count": 16,
   "id": "23d4bd04-f7cd-470e-8ae8-5491c71cccbf",
   "metadata": {},
   "outputs": [
    {
     "name": "stdout",
     "output_type": "stream",
     "text": [
      "        ┌───┐┌──────────────┐┌───────────┐┌──────────────┐┌───────────┐ ░ ┌─┐»\n",
      "   q_0: ┤ H ├┤0             ├┤0          ├┤0             ├┤0          ├─░─┤M├»\n",
      "        ├───┤│              ││           ││              ││           │ ░ └╥┘»\n",
      "   q_1: ┤ H ├┤1 Oracle(max) ├┤1 Diffuser ├┤1 Oracle(max) ├┤1 Diffuser ├─░──╫─»\n",
      "        ├───┤│              ││           ││              ││           │ ░  ║ »\n",
      "   q_2: ┤ H ├┤2             ├┤2          ├┤2             ├┤2          ├─░──╫─»\n",
      "        └───┘└──────────────┘└───────────┘└──────────────┘└───────────┘ ░  ║ »\n",
      "meas: 3/═══════════════════════════════════════════════════════════════════╩═»\n",
      "                                                                           0 »\n",
      "«              \n",
      "«   q_0: ──────\n",
      "«        ┌─┐   \n",
      "«   q_1: ┤M├───\n",
      "«        └╥┘┌─┐\n",
      "«   q_2: ─╫─┤M├\n",
      "«         ║ └╥┘\n",
      "«meas: 3/═╩══╩═\n",
      "«         1  2 \n"
     ]
    }
   ],
   "source": [
    "A = find_the_largest_number(5, -6)"
   ]
  },
  {
   "cell_type": "markdown",
   "id": "4991ee2c-b7bb-4cf8-8e8d-a7765ea2de1f",
   "metadata": {},
   "source": [
    "**Another implementation based on Qiskit library**"
   ]
  },
  {
   "cell_type": "code",
   "execution_count": 3,
   "id": "2bdff592-bf9a-43f5-998b-7cf8ff0d06cd",
   "metadata": {},
   "outputs": [],
   "source": [
    "from qiskit.algorithms import AmplificationProblem, Grover\n",
    "from qiskit.quantum_info import Statevector\n",
    "from qiskit.primitives import Sampler"
   ]
  },
  {
   "cell_type": "code",
   "execution_count": 4,
   "id": "40d4531f-efe9-4c94-9064-4866bdf183cc",
   "metadata": {},
   "outputs": [],
   "source": [
    "def find_the_largest_number_v2(number_1: int, number_2: int):\n",
    "    max_number = max(number_1, number_2)\n",
    "    solution = format(abs(max_number), 'b').zfill(2)\n",
    "    mark_state = Statevector.from_label(solution)\n",
    "    problem = AmplificationProblem(oracle=mark_state, is_good_state=[solution])\n",
    "    grover = Grover(sampler=Sampler())\n",
    "    result = grover.amplify(problem)\n",
    "    if abs(max_number) == int(result.top_measurement, 2):\n",
    "        return max_number\n",
    "    else:\n",
    "        return None"
   ]
  },
  {
   "cell_type": "code",
   "execution_count": 18,
   "id": "310b5602-22ce-415d-8ec1-59624d0a79b8",
   "metadata": {},
   "outputs": [
    {
     "name": "stdout",
     "output_type": "stream",
     "text": [
      "5\n",
      "5\n"
     ]
    }
   ],
   "source": [
    "A = find_the_largest_number(5, -6)\n",
    "print(A)\n",
    "A = find_the_largest_number_v2(5, -6)\n",
    "print(A)"
   ]
  },
  {
   "cell_type": "markdown",
   "id": "d1307cb8-20f1-4bb9-a963-0e6c70c4c592",
   "metadata": {},
   "source": [
    "### References\n",
    "1. https://learn.qiskit.org/course/introduction/grovers-search-algorithm\n",
    "2. https://qiskit.org/documentation/stable/0.24/tutorials/algorithms/07_grover.html?highlight=grover"
   ]
  },
  {
   "cell_type": "markdown",
   "id": "478e37a9-34f2-4b73-9856-a16261f49596",
   "metadata": {},
   "source": [
    "### Task 2 Is Rectangle?"
   ]
  },
  {
   "cell_type": "markdown",
   "id": "488d7934-6da5-49c5-878d-77eae6d4fd95",
   "metadata": {},
   "source": [
    "The main approach to solving the current task is to encode all possible solutions or no solution in the oracle. We can then use quantum counting to attempt to find at least one solution that matches the given sides. To achieve this, we need to create an oracle that maps each possible solution to a unique state in the quantum register. This can be done by encoding the solutions as a binary string and using the corresponding basis states in the quantum register. To achieve that we need a maximum of 3 qubits (6 combinations). Overall, the key idea is to use quantum computing techniques to efficiently search for a solution among a \"large\" number of possible solutions."
   ]
  },
  {
   "cell_type": "code",
   "execution_count": 5,
   "id": "8e495272-549a-412b-b5a1-23432dc9d98e",
   "metadata": {},
   "outputs": [],
   "source": [
    "from qiskit import QuantumCircuit, QuantumRegister, Aer, transpile\n",
    "from qiskit.quantum_info.operators import Operator\n",
    "from qiskit.circuit.library import Diagonal, GroverOperator, QFT\n",
    "from qiskit.visualization import plot_histogram\n",
    "\n",
    "import numpy as np\n",
    "import math\n",
    "from itertools import permutations\n",
    "from typing import Union"
   ]
  },
  {
   "cell_type": "code",
   "execution_count": 6,
   "id": "7a54f1ce-fbce-444e-9711-771c91f77ff0",
   "metadata": {},
   "outputs": [],
   "source": [
    "ONE_SOLUTION = [7]\n",
    "SIX_SOLUTIONS = [1, 2, 3, 4, 5, 6]\n",
    "NO_SOLUTION = []\n",
    "\n",
    "def encode_solutions(sides: [int]) -> Union[None, list[int]]:\n",
    "    if max(sides) == 0:\n",
    "        return NO_SOLUTION\n",
    "        \n",
    "    A, B, C, D = sides\n",
    "    if A == B and B == C and C == D:\n",
    "        return ONE_SOLUTION\n",
    "    elif A == B and C == D:\n",
    "        return SIX_SOLUTIONS\n",
    "    elif A == C and B == D:\n",
    "        return SIX_SOLUTIONS\n",
    "    elif A == D and B == C:\n",
    "        return SIX_SOLUTIONS\n",
    "    else:\n",
    "        return NO_SOLUTION"
   ]
  },
  {
   "cell_type": "code",
   "execution_count": 7,
   "id": "d99fc95a-e2ec-4e5f-af9d-c66a745f045c",
   "metadata": {},
   "outputs": [
    {
     "data": {
      "text/plain": [
       "([], [], [7], [1, 2, 3, 4, 5, 6], [])"
      ]
     },
     "execution_count": 7,
     "metadata": {},
     "output_type": "execute_result"
    }
   ],
   "source": [
    "encode_solutions([0, 0, 0, 0]), encode_solutions([0, 0, 0, 1]), encode_solutions([1, 1, 1, 1]), encode_solutions([1, 2, 1, 2]), encode_solutions([1, 2, 1, 3]),"
   ]
  },
  {
   "cell_type": "code",
   "execution_count": 11,
   "id": "824b5697-646d-4d0d-924c-a0415604a206",
   "metadata": {},
   "outputs": [],
   "source": [
    "def mark_solutions(n_qubits: int, states: [int]) -> [int]:\n",
    "    diagonal = np.ones(2 ** n_qubits)\n",
    "    for s in states:\n",
    "        diagonal[s] = -1\n",
    "    return diagonal\n",
    "\n",
    "def QFT_inverse(n_qubits: int):\n",
    "    qft_dagger = QFT(n_qubits, inverse=True).to_gate()\n",
    "    qft_dagger.label = \"QFT†\"\n",
    "    return qft_dagger\n",
    "\n",
    "def grover_operator(n_iterations, solutions: [int]):\n",
    "    oracle = Diagonal(solutions)\n",
    "    grover_it = GroverOperator(oracle).repeat(n_iterations).to_gate()\n",
    "    grover_it.label = f\"Grover$^{n_iterations}$\"\n",
    "    return grover_it"
   ]
  },
  {
   "cell_type": "code",
   "execution_count": 9,
   "id": "5d8af74d-19b5-4f3e-9ea2-348c9fe9ecc3",
   "metadata": {},
   "outputs": [],
   "source": [
    "def is_rectangle(A: int, B: int, C: int, D: int) -> bool:\n",
    "    sides = [A, B, C, D]\n",
    "    enc_rectangles = encode_solutions(sides)\n",
    "\n",
    "    t = 3  # no. of counting qubits, max value can be 6 so 3 qubits must be enought\n",
    "    n = 3  # no. of searching qubits\n",
    "\n",
    "    marked_solutions = mark_solutions(n, enc_rectangles)\n",
    "\n",
    "    qc = QuantumCircuit(n+t, t) # Circuit with n+t qubits and t classical bits\n",
    "\n",
    "    # Initialize all qubits to |+>\n",
    "    for qubit in range(t+n):\n",
    "        qc.h(qubit)\n",
    "\n",
    "    # Begin controlled Grover iterations\n",
    "    n_iterations = 1\n",
    "    for qubit in range(t):\n",
    "        cgrit = grover_operator(n_iterations, marked_solutions).control()\n",
    "        qc.append(cgrit, [qubit] + list(range(t, n+t)))\n",
    "        n_iterations *= 2\n",
    "\n",
    "    # Do inverse QFT on counting qubits\n",
    "    qc.append(QFT_inverse(n), range(t))\n",
    "\n",
    "    # Measure counting qubits\n",
    "    qc.measure(range(t), range(t))\n",
    "\n",
    "    # Execute and see results\n",
    "    sim = Aer.get_backend('aer_simulator')\n",
    "    transpiled_qc = transpile(qc, sim)\n",
    "    job = sim.run(transpiled_qc)\n",
    "    hist = job.result().get_counts()\n",
    "    plot_histogram(hist)\n",
    "\n",
    "    measured_str = max(hist, key=hist.get)\n",
    "    measured_int = int(measured_str, 2)\n",
    "    print(\"Register Output = %i\" % measured_int)\n",
    "\n",
    "    theta = (measured_int/(2**t))*math.pi*2\n",
    "    print(\"Theta = %.5f\" % theta)\n",
    "\n",
    "    # Calculate No. of Solutions\n",
    "    N = 2**n\n",
    "    M = N * (math.sin(theta/2)**2)\n",
    "    print(f\"No. of Solutions = {M:.1f}\")\n",
    "\n",
    "    return M > 0"
   ]
  },
  {
   "cell_type": "code",
   "execution_count": 12,
   "id": "63417e18-f7bd-4b16-a28d-a520ef4c1b26",
   "metadata": {},
   "outputs": [
    {
     "name": "stdout",
     "output_type": "stream",
     "text": [
      "Register Output = 1\n",
      "Theta = 0.78540\n",
      "No. of Solutions = 1.2\n"
     ]
    },
    {
     "data": {
      "text/plain": [
       "True"
      ]
     },
     "execution_count": 12,
     "metadata": {},
     "output_type": "execute_result"
    }
   ],
   "source": [
    "is_rectangle(1, 1, 1, 1)"
   ]
  },
  {
   "cell_type": "code",
   "execution_count": 36,
   "id": "171c284c-5884-4881-8208-601eeed92e28",
   "metadata": {},
   "outputs": [
    {
     "name": "stdout",
     "output_type": "stream",
     "text": [
      "Register Output = 0\n",
      "Theta = 0.00000\n",
      "No. of Solutions = 0.0\n"
     ]
    },
    {
     "data": {
      "text/plain": [
       "False"
      ]
     },
     "execution_count": 36,
     "metadata": {},
     "output_type": "execute_result"
    }
   ],
   "source": [
    "is_rectangle(0, 0, 0, 0)"
   ]
  },
  {
   "cell_type": "code",
   "execution_count": 38,
   "id": "a31484b1-df28-4696-9a53-05ef07910e15",
   "metadata": {},
   "outputs": [
    {
     "name": "stdout",
     "output_type": "stream",
     "text": [
      "Register Output = 0\n",
      "Theta = 0.00000\n",
      "No. of Solutions = 0.0\n"
     ]
    },
    {
     "data": {
      "text/plain": [
       "False"
      ]
     },
     "execution_count": 38,
     "metadata": {},
     "output_type": "execute_result"
    }
   ],
   "source": [
    "is_rectangle(0, 0, 0, 1)"
   ]
  },
  {
   "cell_type": "code",
   "execution_count": 39,
   "id": "6fa5837b-ede2-420d-be9a-8847477c7758",
   "metadata": {},
   "outputs": [
    {
     "name": "stdout",
     "output_type": "stream",
     "text": [
      "Register Output = 3\n",
      "Theta = 2.35619\n",
      "No. of Solutions = 6.8\n"
     ]
    },
    {
     "data": {
      "text/plain": [
       "True"
      ]
     },
     "execution_count": 39,
     "metadata": {},
     "output_type": "execute_result"
    }
   ],
   "source": [
    "is_rectangle(1, 2, 1, 2)"
   ]
  },
  {
   "cell_type": "markdown",
   "id": "de57b39c-ef5a-43d3-8a4a-a71254bb5fda",
   "metadata": {},
   "source": [
    "### References\n",
    "1. https://learn.qiskit.org/course/ch-algorithms/quantum-counting"
   ]
  },
  {
   "cell_type": "markdown",
   "id": "1da11033-001b-4ff5-ae2a-fc84f92aa598",
   "metadata": {},
   "source": [
    "### Task 3 QSVM"
   ]
  },
  {
   "cell_type": "markdown",
   "id": "0b6b498b-57e2-40db-bfa9-db99a749c38e",
   "metadata": {},
   "source": [
    "To build classifier for iris dataset based on QSVM we need to execute the following steps:\n",
    "1. Encode data as qubits this is the role of the feature map.\n",
    "2. Apply a parameterized quantum circuit.\n",
    "3. Train classifier (QSVN).\n",
    "4. Validate model.\n",
    "\n",
    "So in total we have 150 samples for 50 samples in each class and there are four features (attributes) in each sample."
   ]
  },
  {
   "cell_type": "code",
   "execution_count": 10,
   "id": "5b1a0696-a69f-437b-b46b-9992f3dabc2f",
   "metadata": {},
   "outputs": [],
   "source": [
    "from sklearn.datasets import load_iris\n",
    "\n",
    "iris_data = load_iris()"
   ]
  },
  {
   "cell_type": "code",
   "execution_count": 11,
   "id": "5b6de89d-8529-4a07-882f-53cdc0014b21",
   "metadata": {},
   "outputs": [],
   "source": [
    "features, labels = iris_data.data, iris_data.target"
   ]
  },
  {
   "cell_type": "code",
   "execution_count": 12,
   "id": "2d9e8837-6bb3-434b-9594-f4b891e684ca",
   "metadata": {},
   "outputs": [
    {
     "name": "stdout",
     "output_type": "stream",
     "text": [
      "          Min  Max   Mean    SD   Class Correlation\n",
      "    ============== ==== ==== ======= ===== ====================\n",
      "    sepal length:   4.3  7.9   5.84   0.83    0.7826\n",
      "    sepal width:    2.0  4.4   3.05   0.43   -0.4194\n",
      "    petal length:   1.0  6.9   3.76   1.76    0.9490  (high!)\n",
      "    petal width:    0.1  2.5   1.20   0.76    0.9565  (high!)\n",
      "    ============== ==== ==== ======= ===== ===========\n"
     ]
    }
   ],
   "source": [
    "print(iris_data.DESCR[600:1000])"
   ]
  },
  {
   "cell_type": "markdown",
   "id": "c320e566-e273-4015-b8f9-d791d3fe6cc6",
   "metadata": {},
   "source": [
    "#### Feature normalization"
   ]
  },
  {
   "cell_type": "code",
   "execution_count": 13,
   "id": "afa6889b-54c3-4132-977f-77b226650c3b",
   "metadata": {},
   "outputs": [],
   "source": [
    "from sklearn.preprocessing import MinMaxScaler\n",
    "\n",
    "features = MinMaxScaler().fit_transform(features)"
   ]
  },
  {
   "cell_type": "code",
   "execution_count": 6,
   "id": "3e1ca4b0-cbc2-4be6-a6ab-b9a67f0c8298",
   "metadata": {},
   "outputs": [
    {
     "data": {
      "text/plain": [
       "array([[0.22222222, 0.625     , 0.06779661, 0.04166667],\n",
       "       [0.16666667, 0.41666667, 0.06779661, 0.04166667],\n",
       "       [0.11111111, 0.5       , 0.05084746, 0.04166667],\n",
       "       [0.08333333, 0.45833333, 0.08474576, 0.04166667],\n",
       "       [0.19444444, 0.66666667, 0.06779661, 0.04166667]])"
      ]
     },
     "execution_count": 6,
     "metadata": {},
     "output_type": "execute_result"
    }
   ],
   "source": [
    "features[0:5]"
   ]
  },
  {
   "cell_type": "code",
   "execution_count": 14,
   "id": "bdfeae78-e5e2-478a-a1dd-1ca3ea49dd4c",
   "metadata": {},
   "outputs": [],
   "source": [
    "from sklearn.model_selection import train_test_split\n",
    "from qiskit.utils import algorithm_globals\n",
    "\n",
    "algorithm_globals.random_seed = 123\n",
    "train_features, test_features, train_labels, test_labels = train_test_split(\n",
    "    features, labels, train_size=0.7, random_state=algorithm_globals.random_seed\n",
    ")"
   ]
  },
  {
   "cell_type": "code",
   "execution_count": 19,
   "id": "0a189b69-26dc-4026-8271-82312556a230",
   "metadata": {},
   "outputs": [
    {
     "data": {
      "image/png": "[encoded data removed]",
      "text/plain": [
       "<Figure size 1792.5x785.944 with 1 Axes>"
      ]
     },
     "execution_count": 19,
     "metadata": {},
     "output_type": "execute_result"
    }
   ],
   "source": [
    "from qiskit.circuit.library import ZZFeatureMap\n",
    "\n",
    "num_features = features.shape[1]\n",
    "\n",
    "feature_map = ZZFeatureMap(feature_dimension=num_features, reps=1)\n",
    "feature_map.decompose().draw(output=\"mpl\", fold=20)"
   ]
  },
  {
   "cell_type": "code",
   "execution_count": 20,
   "id": "0de405b5-ce11-414f-8a99-4ea9e6b07b1b",
   "metadata": {},
   "outputs": [],
   "source": [
    "import time\n",
    "from qiskit.primitives import Sampler\n",
    "from qiskit_machine_learning.kernels import FidelityQuantumKernel\n",
    "from qiskit_machine_learning.algorithms.classifiers import QSVC\n",
    "from qiskit.algorithms.state_fidelities import ComputeUncompute\n",
    "\n",
    "sampler = Sampler()\n",
    "\n",
    "fidelity=ComputeUncompute(\n",
    "    sampler=sampler,\n",
    ")\n",
    "\n",
    "qkernel=FidelityQuantumKernel(\n",
    "    feature_map=feature_map,\n",
    "    fidelity=fidelity\n",
    ")\n",
    "\n",
    "qsvc = QSVC(\n",
    "    quantum_kernel=qkernel,\n",
    ")"
   ]
  },
  {
   "cell_type": "code",
   "execution_count": 21,
   "id": "8918d4e7-5daf-4337-b401-dde4789810bf",
   "metadata": {},
   "outputs": [
    {
     "name": "stdout",
     "output_type": "stream",
     "text": [
      "Training time: 32 seconds\n"
     ]
    }
   ],
   "source": [
    "start = time.time()\n",
    "qsvc.fit(train_features, train_labels)\n",
    "elapsed = time.time() - start\n",
    "\n",
    "print(f\"Training time: {round(elapsed)} seconds\")"
   ]
  },
  {
   "cell_type": "code",
   "execution_count": 22,
   "id": "522d2f26-3fc5-402a-9a92-c042b5aa1cfd",
   "metadata": {},
   "outputs": [
    {
     "name": "stdout",
     "output_type": "stream",
     "text": [
      "QSVC on the training dataset: 0.99\n",
      "QSVC on the test dataset:     0.96\n"
     ]
    }
   ],
   "source": [
    "train_score = qsvc.score(train_features, train_labels)\n",
    "test_score = qsvc.score(test_features, test_labels)\n",
    "\n",
    "print(f\"QSVC on the training dataset: {train_score:.2f}\")\n",
    "print(f\"QSVC on the test dataset:     {test_score:.2f}\")"
   ]
  },
  {
   "cell_type": "markdown",
   "id": "bdf097fb-bbbe-4325-a092-4cfde24a7fe8",
   "metadata": {},
   "source": [
    "### References\n",
    "1. https://qiskit.org/documentation/stable/0.24/tutorials/machine_learning/01_qsvm_classification.html?highlight=machine%20learning"
   ]
  },
  {
   "cell_type": "code",
   "execution_count": null,
   "id": "418ebda5-1cb5-4c24-8041-16904061cbaa",
   "metadata": {},
   "outputs": [],
   "source": []
  }
 ],
 "metadata": {
  "kernelspec": {
   "display_name": "Python 3 [Default]",
   "language": "python",
   "name": "python3"
  },
  "language_info": {
   "codemirror_mode": {
    "name": "ipython",
    "version": 3
   },
   "file_extension": ".py",
   "mimetype": "text/x-python",
   "name": "python",
   "nbconvert_exporter": "python",
   "pygments_lexer": "ipython3",
   "version": "3.9.10"
  }
 },
 "nbformat": 4,
 "nbformat_minor": 5
}
